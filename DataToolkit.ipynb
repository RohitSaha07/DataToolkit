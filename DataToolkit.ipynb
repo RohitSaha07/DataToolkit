{
 "cells": [
  {
   "cell_type": "markdown",
   "id": "33f8e4ad",
   "metadata": {},
   "source": [
    "### Python – Error Handling,Logging, and Data Manipulation Assignment"
   ]
  },
  {
   "cell_type": "code",
   "execution_count": 3,
   "id": "4b4553a2",
   "metadata": {},
   "outputs": [
    {
     "name": "stdout",
     "output_type": "stream",
     "text": [
      "Running in thread\n",
      "Running in thread\n"
     ]
    }
   ],
   "source": [
    "# 1. What is the difference between multithreading and multiprocessing?\n",
    "# -> Both multithreading and multiprocessing are techniques used in Python to achieve concurrency,\n",
    "# meaning they allow multiple tasks to run seemingly at the same time.\n",
    "# Multithreading involves running multiple threads within the same process.\n",
    "# All threads share the same memory space and variables.\n",
    "# Used for I/O-bound tasks such as file reading/writing, network requests, or user input/output operations.\n",
    "import threading\n",
    "def task():\n",
    "    print(\"Running in thread\")\n",
    "t1 = threading.Thread(target=task)\n",
    "t2 = threading.Thread(target=task)\n",
    "t1.start()\n",
    "t2.start()"
   ]
  },
  {
   "cell_type": "code",
   "execution_count": 6,
   "id": "00c0dea3",
   "metadata": {},
   "outputs": [],
   "source": [
    "# Multiprocessing uses multiple processes, each with its own Python interpreter and memory space.\n",
    "# It allows true parallel execution on multiple CPU cores.\n",
    "import multiprocessing\n",
    "def task():\n",
    "    print(\"Running in process\")\n",
    "p1 = multiprocessing.Process(target=task)\n",
    "p2 = multiprocessing.Process(target=task)\n",
    "p1.start()\n",
    "p2.start()"
   ]
  },
  {
   "cell_type": "code",
   "execution_count": 7,
   "id": "290df022",
   "metadata": {},
   "outputs": [],
   "source": [
    "# 2. What are the challenges associated with memory management in Python?\n",
    "# -> Memory management in Python is handled automatically by its built-in garbage collector and memory allocator.\n",
    "# Python uses reference counting to keep track of how many references exist to each object in memory.\n",
    "# When an object’s reference count drops to zero, it is immediately deleted.\n",
    "# Python uses a private heap to store objects and data structures.\n",
    "# Over time, frequent allocation and deallocation of objects can lead to memory fragmentation.\n",
    "# In Python, everything is an object — even integers and booleans.\n",
    "# Each object carries additional metadata such as reference counts, type information, and object pointers.\n",
    "# This overhead makes Python programs more memory-intensive compared to languages like C or C++.\n",
    "# As a result, applications handling large datasets may consume excessive memory.\n",
    "# When working with large lists, dictionaries, or dataframes, memory management becomes challenging.\n",
    "# Improper handling of object references, deep copies, or slicing large datasets can lead to excessive memory retention."
   ]
  },
  {
   "cell_type": "code",
   "execution_count": 8,
   "id": "f8e9de54",
   "metadata": {},
   "outputs": [
    {
     "name": "stdout",
     "output_type": "stream",
     "text": [
      "Enter numerator: 7\n",
      "Enter denominator: 0\n",
      "Error: Division by zero occurred. Check error_log.txt for details.\n"
     ]
    }
   ],
   "source": [
    "# 3. Write a Python program that logs an error message to a log file when a division by zero exception occurs.\n",
    "import logging\n",
    "logging.basicConfig(filename=\"error_log.txt\", level=logging.ERROR)\n",
    "try:\n",
    "    x = int(input(\"Enter numerator: \"))\n",
    "    y = int(input(\"Enter denominator: \"))\n",
    "    result = x / y\n",
    "    print(\"Result:\", result)\n",
    "except ZeroDivisionError as e:\n",
    "    logging.error(\"Division by zero error: %s\", e)\n",
    "    print(\"Error: Division by zero occurred. Check error_log.txt for details.\")"
   ]
  },
  {
   "cell_type": "code",
   "execution_count": null,
   "id": "68a8a802",
   "metadata": {},
   "outputs": [],
   "source": [
    "# 4. Write a Python program that reads from one file and writes its content to another file.\n",
    "with open(\"input.txt\", \"r\") as f1:\n",
    "    data = f1.read()\n",
    "with open(\"output.txt\", \"w\") as f2:\n",
    "    f2.write(data)"
   ]
  },
  {
   "cell_type": "code",
   "execution_count": 10,
   "id": "4c1bbd09",
   "metadata": {},
   "outputs": [
    {
     "name": "stdout",
     "output_type": "stream",
     "text": [
      "IndexError occurred\n"
     ]
    }
   ],
   "source": [
    "# 5. Write a program that handles both IndexError and KeyError using a try-except block.\n",
    "try:\n",
    "    lst = [1, 2, 3]\n",
    "    print(lst[5])\n",
    "    d = {\"a\": 10}\n",
    "    print(d[\"b\"])\n",
    "except IndexError:\n",
    "    print(\"IndexError occurred\")\n",
    "except KeyError:\n",
    "    print(\"KeyError occurred\")"
   ]
  },
  {
   "cell_type": "code",
   "execution_count": null,
   "id": "3cf4ae54",
   "metadata": {},
   "outputs": [],
   "source": [
    "# 6. What are the differences between NumPy arrays and Python lists?\n",
    "'''\n",
    "NumPy arrays and Python lists differ mainly in performance, functionality, and memory efficiency.\n",
    "A NumPy array is a data structure that is specifically designed for numerical and scientific computing.\n",
    "It stores elements of the same data type in contiguous memory.\n",
    "Allows for fast mathematical operations using vectorization and optimized C-based implementations.\n",
    "NumPy arrays support multi-dimensional data and element-wise operations.\n",
    "This make them highly efficient for large-scale numerical computations.\n",
    "In contrast, a Python list is a built-in data structure that can store heterogeneous elements(different data types).\n",
    "It is more flexible but slower for numerical tasks since it does not support vectorized operations.\n",
    "Lists consume more memory and require explicit loops for element-wise processing.\n",
    "In summary, NumPy arrays are optimized for performance and numerical computation,\n",
    "while Python lists are more general-purpose and suitable for heterogeneous data handling.\n",
    "'''"
   ]
  },
  {
   "cell_type": "code",
   "execution_count": 11,
   "id": "0159487d",
   "metadata": {},
   "outputs": [
    {
     "name": "stdout",
     "output_type": "stream",
     "text": [
      "0     2\n",
      "1     4\n",
      "2     6\n",
      "3     8\n",
      "4    10\n",
      "dtype: int64\n",
      "   A   B\n",
      "0  2   8\n",
      "1  4  10\n",
      "2  6  12\n",
      "A     6\n",
      "B    15\n",
      "dtype: int64\n"
     ]
    }
   ],
   "source": [
    "# 7. Explain the difference between apply() and map() in Pandas.\n",
    "# -> In Pandas, `apply()` and `map()` are both used to apply functions to data, but they differ in their scope and flexibility.\n",
    "# The `map()` function is primarily used with Series objects\n",
    "# and applies a function, dictionary, or mapping element-wise to each value in the Series,\n",
    "# returning a transformed Series of the same length.\n",
    "# It is best suited for simple element-wise operations or value replacement.\n",
    "# In contrast, `apply()` is more versatile and can be used with both Series and DataFrame objects.\n",
    "# For a Series, it applies a function to each element, similar to `map()`,\n",
    "# but for a DataFrame, it can apply a function along either rows or columns (`axis=0` for columns, `axis=1` for rows),\n",
    "# allowing complex aggregations or transformations that involve multiple elements.\n",
    "# Essentially, `map()` is simpler and limited to element-wise operations on a Series,\n",
    "# while `apply()` is more powerful and flexible, suitable for both Series and DataFrames.\n",
    "import pandas as pd\n",
    "s = pd.Series([1, 2, 3, 4, 5])\n",
    "print(s.map(lambda x: x * 2))\n",
    "df = pd.DataFrame({'A': [1, 2, 3], 'B': [4, 5, 6]})\n",
    "print(df.apply(lambda x: x * 2))\n",
    "print(df.apply(lambda x: x.sum(), axis=0))"
   ]
  },
  {
   "cell_type": "code",
   "execution_count": 12,
   "id": "40387769",
   "metadata": {},
   "outputs": [
    {
     "data": {
      "image/png": "[encoded data removed]",
      "text/plain": [
       "<Figure size 432x288 with 1 Axes>"
      ]
     },
     "metadata": {
      "needs_background": "light"
     },
     "output_type": "display_data"
    }
   ],
   "source": [
    "# 8. Create a histogram using Seaborn to visualize a distribution.\n",
    "import seaborn as sns\n",
    "import matplotlib.pyplot as plt\n",
    "data = [12, 15, 17, 20, 21, 21, 22, 23, 25, 26, 27, 27, 28, 29, 30]\n",
    "sns.histplot(data, bins=8, kde=True)\n",
    "plt.xlabel(\"Values\")\n",
    "plt.ylabel(\"Frequency\")\n",
    "plt.title(\"Distribution Histogram\")\n",
    "plt.show()"
   ]
  },
  {
   "cell_type": "code",
   "execution_count": 14,
   "id": "36875881",
   "metadata": {},
   "outputs": [
    {
     "name": "stdout",
     "output_type": "stream",
     "text": [
      "First 5 rows of the dataset:\n",
      "       id  inning  over  ball      batsman  non_striker     bowler  \\\n",
      "0  335982       1     6     5   RT Ponting  BB McCullum  AA Noffke   \n",
      "1  335982       1     6     6  BB McCullum   RT Ponting  AA Noffke   \n",
      "2  335982       1     7     1  BB McCullum   RT Ponting     Z Khan   \n",
      "3  335982       1     7     2  BB McCullum   RT Ponting     Z Khan   \n",
      "4  335982       1     7     3   RT Ponting  BB McCullum     Z Khan   \n",
      "\n",
      "   batsman_runs  extra_runs  total_runs  non_boundary  is_wicket  \\\n",
      "0             1           0           1             0          0   \n",
      "1             1           0           1             0          0   \n",
      "2             0           0           0             0          0   \n",
      "3             1           0           1             0          0   \n",
      "4             1           0           1             0          0   \n",
      "\n",
      "  dismissal_kind player_dismissed fielder extras_type           batting_team  \\\n",
      "0            NaN              NaN     NaN         NaN  Kolkata Knight Riders   \n",
      "1            NaN              NaN     NaN         NaN  Kolkata Knight Riders   \n",
      "2            NaN              NaN     NaN         NaN  Kolkata Knight Riders   \n",
      "3            NaN              NaN     NaN         NaN  Kolkata Knight Riders   \n",
      "4            NaN              NaN     NaN         NaN  Kolkata Knight Riders   \n",
      "\n",
      "                  bowling_team  \n",
      "0  Royal Challengers Bangalore  \n",
      "1  Royal Challengers Bangalore  \n",
      "2  Royal Challengers Bangalore  \n",
      "3  Royal Challengers Bangalore  \n",
      "4  Royal Challengers Bangalore  \n"
     ]
    }
   ],
   "source": [
    "# 9. Use Pandas to load a CSV file and display its first 5 rows.\n",
    "import pandas as pd\n",
    "\n",
    "df = pd.read_csv(\"C:\\\\Users\\\\ROHIT\\\\Documents\\\\Data Analytics\\\\3IPLdataset1.csv\")\n",
    "\n",
    "print(\"First 5 rows of the dataset:\")\n",
    "print(df.head())"
   ]
  },
  {
   "cell_type": "code",
   "execution_count": 15,
   "id": "ea75094e",
   "metadata": {},
   "outputs": [
    {
     "data": {
      "image/png": "[encoded data removed]",
      "text/plain": [
       "<Figure size 432x288 with 2 Axes>"
      ]
     },
     "metadata": {
      "needs_background": "light"
     },
     "output_type": "display_data"
    }
   ],
   "source": [
    "# 10. Calculate the correlation matrix using Seaborn and visualize it with a heatmap.\n",
    "import pandas as pd\n",
    "import seaborn as sns\n",
    "import matplotlib.pyplot as plt\n",
    "data = {\n",
    "    \"Math\": [85, 90, 78, 92, 88],\n",
    "    \"Science\": [80, 85, 82, 89, 90],\n",
    "    \"English\": [78, 75, 80, 85, 82]\n",
    "}\n",
    "df = pd.DataFrame(data)\n",
    "corr = df.corr()\n",
    "sns.heatmap(corr, annot=True, cmap=\"coolwarm\")\n",
    "plt.title(\"Correlation Matrix Heatmap\")\n",
    "plt.show()"
   ]
  }
 ],
 "metadata": {
  "kernelspec": {
   "display_name": "Python 3 (ipykernel)",
   "language": "python",
   "name": "python3"
  },
  "language_info": {
   "codemirror_mode": {
    "name": "ipython",
    "version": 3
   },
   "file_extension": ".py",
   "mimetype": "text/x-python",
   "name": "python",
   "nbconvert_exporter": "python",
   "pygments_lexer": "ipython3",
   "version": "3.9.12"
  }
 },
 "nbformat": 4,
 "nbformat_minor": 5
}
